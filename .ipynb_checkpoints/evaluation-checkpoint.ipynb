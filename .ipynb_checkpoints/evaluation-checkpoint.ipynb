{
 "cells": [
  {
   "cell_type": "code",
   "execution_count": null,
   "id": "840c786f-0c69-4d88-9e43-286a933294ea",
   "metadata": {},
   "outputs": [],
   "source": [
    "import pandas as pd\n",
    "import os, csv"
   ]
  },
  {
   "cell_type": "code",
   "execution_count": null,
   "id": "9aa84a13-5627-4e23-9561-f81e0e0f145b",
   "metadata": {},
   "outputs": [],
   "source": [
    "evaluation = pd.read_csv(\"complete_response_with_spearman.csv\")\n",
    "evaluation"
   ]
  },
  {
   "cell_type": "code",
   "execution_count": null,
   "id": "71d63eaf-8914-4532-82a8-383ca64b1fe2",
   "metadata": {},
   "outputs": [],
   "source": [
    "df_gpt_text_davinci_003 = evaluation[evaluation['Model']=='text-davinci-003']\n",
    "df_gpt_text_davinci_003"
   ]
  },
  {
   "cell_type": "code",
   "execution_count": null,
   "id": "473741cc-7c2f-48e9-ade5-31f6f2af9e8f",
   "metadata": {},
   "outputs": [],
   "source": [
    "df_gpt_4 = evaluation[evaluation['Model']=='gpt-4']\n",
    "df_gpt_4"
   ]
  },
  {
   "cell_type": "code",
   "execution_count": null,
   "id": "29a7233a-6853-4403-8da6-186a19a93381",
   "metadata": {},
   "outputs": [],
   "source": []
  },
  {
   "cell_type": "code",
   "execution_count": null,
   "id": "e98167a7-53b1-4ba1-a396-4678715ed9f9",
   "metadata": {},
   "outputs": [],
   "source": [
    "df_gpt_turbo = evaluation[evaluation['Model']=='gpt-3.5-turbo']\n",
    "df_gpt_turbo"
   ]
  },
  {
   "cell_type": "code",
   "execution_count": null,
   "id": "c2d4d21f-b3c2-454f-adf8-56e67b422f9b",
   "metadata": {},
   "outputs": [],
   "source": [
    "'''\n",
    "3 Dataframe\n",
    "\n",
    "df_gpt_text_davinci_003\n",
    "df_gpt_4\n",
    "df_gpt_turbo\n",
    "'''\n",
    "\n",
    "df_gpt_text_davinci_003.nlargest(1,'spearman_rank_correlation')"
   ]
  },
  {
   "cell_type": "code",
   "execution_count": null,
   "id": "d4bc8357-8d5c-4ea5-bf6c-ea84ac461536",
   "metadata": {},
   "outputs": [],
   "source": [
    "df_gpt_4.nlargest(1,'spearman_rank_correlation')"
   ]
  },
  {
   "cell_type": "code",
   "execution_count": null,
   "id": "16ec969d-fe6e-4a1b-a9b0-4c9519bae32f",
   "metadata": {},
   "outputs": [],
   "source": [
    "df_gpt_turbo.nlargest(1,'spearman_rank_correlation')"
   ]
  },
  {
   "cell_type": "code",
   "execution_count": null,
   "id": "ce629648-a641-46a3-83b6-f8ca23d3bc14",
   "metadata": {},
   "outputs": [],
   "source": [
    "import matplotlib.pyplot as plt\n",
    "import seaborn as sns\n",
    "\n",
    "# Combine the three dataframes into one\n",
    "combined_df = pd.concat([df_gpt_4, df_gpt_turbo, df_gpt_text_davinci_003])\n",
    "\n",
    "# Create a barplot using seaborn\n",
    "sns.set_style(\"darkgrid\")\n",
    "ax = sns.barplot(x=\"Prompt Type\", y=\"spearman_rank_correlation\", hue=\"Model\", data=combined_df)\n",
    "ax.set(title='Spearman Rank Correlation for Different Prompt Types', xlabel='Prompt Type', ylabel='Spearman Rank Correlation')\n",
    "plt.savefig(\"plot.pdf\", bbox_inches=\"tight\")\n",
    "plt.show()"
   ]
  },
  {
   "cell_type": "code",
   "execution_count": null,
   "id": "c357e488-db74-4193-b2d8-16cba893ae33",
   "metadata": {},
   "outputs": [],
   "source": [
    "import matplotlib.pyplot as plt\n",
    "import seaborn as sns\n",
    "\n",
    "# Combine the three dataframes into one\n",
    "combined_df = pd.concat([df_gpt_4, df_gpt_turbo, df_gpt_text_davinci_003])\n",
    "\n",
    "# Calculate the average spearman rank correlation for each prompt\n",
    "average_rank_correlation = combined_df.groupby('Prompt Type')['spearman_rank_correlation'].mean()\n",
    "std_rank_correlation = combined_df.groupby('Prompt Type')['spearman_rank_correlation'].std(ddof=0) # ddof=0, means use std formula for population\n",
    "var_rank_correlation = combined_df.groupby('Prompt Type')['spearman_rank_correlation'].var(ddof=0)\n",
    "\n",
    "# Create a barplot using seaborn\n",
    "sns.set_style(\"darkgrid\")\n",
    "ax = sns.barplot(x=\"Prompt Type\", y=\"spearman_rank_correlation\", hue=\"Model\", data=combined_df)\n",
    "ax.set(title='Spearman Rank Correlation for Different Prompt Types', xlabel='Prompt Type', ylabel='Spearman Rank Correlation')\n",
    "\n",
    "# Show the average spearman rank correlation for each prompt\n",
    "for i, v in enumerate(average_rank_correlation):\n",
    "    plt.text(i, v, f\"{v:.2f}±{std_rank_correlation[i]:.2f}\\n(var={var_rank_correlation[i]:.2f})\", color='black', ha=\"center\", size='small')\n",
    "\n",
    "plt.savefig(\"plot_std.pdf\", bbox_inches=\"tight\")\n",
    "plt.show()\n"
   ]
  },
  {
   "cell_type": "markdown",
   "id": "7d5678f0-cd99-45dd-b8b4-c55c2e20732d",
   "metadata": {},
   "source": [
    "Observation\n",
    "\n",
    "1. GPT-4 Is the best\n",
    "2. Good Example provided in one shot matters a lot\n",
    "3. Zero-shot is not good at all\n",
    "4. One Shot seems to performs better on average"
   ]
  },
  {
   "cell_type": "code",
   "execution_count": null,
   "id": "8760469a-cbe9-49af-a3da-34929b4e74d0",
   "metadata": {},
   "outputs": [],
   "source": [
    "## With local model now - reading the csv that has all the information including the local \n",
    "# models' rank\n",
    "evaluation_with_localmodel = pd.read_csv(\"complete_response_with_spearman_with_localmodel_also.csv\")\n",
    "\n",
    "import matplotlib.pyplot as plt\n",
    "import seaborn as sns\n",
    "\n",
    "# Create a barplot using seaborn\n",
    "sns.set_style(\"darkgrid\")\n",
    "ax = sns.barplot(x=\"Prompt Type\", y=\"spearman_rank_correlation\", hue=\"Model\", data=evaluation_with_localmodel)\n",
    "ax.set(title='Spearman Rank Correlation for Different Prompt Types', xlabel='Prompt Type', ylabel='Spearman Rank Correlation')\n",
    "plt.savefig(\"plot_with_local_model.pdf\", bbox_inches=\"tight\")\n",
    "plt.show()\n"
   ]
  },
  {
   "cell_type": "code",
   "execution_count": null,
   "id": "d7d24217-f017-4cb8-b146-e2951767413c",
   "metadata": {},
   "outputs": [],
   "source": [
    "import matplotlib.pyplot as plt\n",
    "import seaborn as sns\n",
    "\n",
    "# Combine the three dataframes into one\n",
    "combined_df = evaluation_with_localmodel\n",
    "\n",
    "# Calculate the average spearman rank correlation for each prompt\n",
    "average_rank_correlation = evaluation_with_localmodel.groupby('Prompt Type')['spearman_rank_correlation'].mean()\n",
    "std_rank_correlation = evaluation_with_localmodel.groupby('Prompt Type')['spearman_rank_correlation'].std(ddof=0) # ddof=0, means use std formula for population\n",
    "var_rank_correlation = evaluation_with_localmodel.groupby('Prompt Type')['spearman_rank_correlation'].var(ddof=0)\n",
    "\n",
    "# Create a barplot using seaborn\n",
    "sns.set_style(\"darkgrid\")\n",
    "ax = sns.barplot(x=\"Prompt Type\", y=\"spearman_rank_correlation\", hue=\"Model\", data=evaluation_with_localmodel)\n",
    "ax.set(title='Spearman Rank Correlation for Different Prompt Types', xlabel='Prompt Type', ylabel='Spearman Rank Correlation')\n",
    "\n",
    "# Show the average spearman rank correlation for each prompt\n",
    "for i, v in enumerate(average_rank_correlation):\n",
    "    plt.text(i, v, f\"{v:.2f}±{std_rank_correlation[i]:.2f}\\n(var={var_rank_correlation[i]:.2f})\", color='black', ha=\"center\", size='small')\n",
    "\n",
    "plt.savefig(\"plot_std_with_local_model.pdf\", bbox_inches=\"tight\")\n",
    "plt.show()\n"
   ]
  },
  {
   "cell_type": "code",
   "execution_count": null,
   "id": "85d82887-521c-43e0-baf4-1e54b9998b43",
   "metadata": {},
   "outputs": [],
   "source": [
    "'''\n",
    "used this code to take the spearman rank correlation for each type of prompt\n",
    "and added it to the table in overleaf with title \"deepwrite-economics-ranking-experiment\"\n",
    "'''\n",
    "\n",
    "evaluation_with_localmodel = pd.read_csv(\"complete_response_with_spearman_with_localmodel_also.csv\")\n",
    "evaluation_with_localmodel[evaluation_with_localmodel['Prompt Type']=='cot']"
   ]
  },
  {
   "cell_type": "markdown",
   "id": "0e010ee6-499d-467d-a9cf-3ae085bbccb8",
   "metadata": {
    "tags": []
   },
   "source": [
    "## Some work with standard deviation and if I should divide by n or n-1 (as number of datapoints)"
   ]
  },
  {
   "cell_type": "markdown",
   "id": "e44a79b5-38b0-44ed-82ab-dacfb4a6f0f9",
   "metadata": {},
   "source": [
    "STD by hand for one-shot-1, dividing by n (i.e. it is for a population)\n",
    "\n",
    "gpt-4 = 0.9\n",
    "\n",
    "gpt-3.5-turbo = 0.6\n",
    "\n",
    "text-davinci-003 = 0.6\n",
    "\n",
    "mean = 0.7\n",
    "\n",
    "square-distance-to-the-mean and sum for each datapoint\n",
    "\n",
    "0.06\n",
    "\n",
    "divide by the number of datapoint \n",
    "\n",
    "0.06/3 = 0.02\n",
    "\n",
    "take square root of this number sqrt(0.02)\n",
    "\n",
    "0.14"
   ]
  },
  {
   "cell_type": "code",
   "execution_count": null,
   "id": "c94f0f53-5406-4186-9ade-fa513ea3ec9f",
   "metadata": {},
   "outputs": [],
   "source": [
    "std_rank_correlation"
   ]
  },
  {
   "cell_type": "markdown",
   "id": "23ea2e98-2244-4d77-a79e-6da2bd2543e7",
   "metadata": {},
   "source": [
    "My notes:\n",
    "\n",
    "When you are calculating std for a population then divide by the number of datapoint, or else divide by n-1 of number of datapoints.\n",
    "\n",
    "\n",
    "Since in this calculation of std for the ranking, this is my complete dataset, i am not sampling or anything. Therefore I will use the population std\n",
    "\n",
    "Reference:\n",
    "\n",
    "https://www.khanacademy.org/math/statistics-probability/summarizing-quantitative-data/variance-standard-deviation-sample/v/sample-variance\n",
    "\n",
    "https://stackoverflow.com/questions/25695986/why-is-pandas-series-std-different-from-numpy-std"
   ]
  },
  {
   "cell_type": "code",
   "execution_count": null,
   "id": "4dfa1bff-4a40-4322-8944-2b511000bb8f",
   "metadata": {},
   "outputs": [],
   "source": [
    "# Numpy uses standard deviation and variance for population as default\n",
    "\n",
    "import numpy as np\n",
    "one_shot_one_correlation = [0.9, 0.6, 0.6]\n",
    "print(np.std(one_shot_one_correlation))\n",
    "print(np.var(one_shot_one_correlation))"
   ]
  },
  {
   "cell_type": "code",
   "execution_count": null,
   "id": "331f90d7-52d8-44fa-858a-9e03c78c4e9e",
   "metadata": {},
   "outputs": [],
   "source": [
    "# Statistics uses standard deviation for sample as default\n",
    "\n",
    "from statistics import median, mean, stdev\n",
    "stdev(one_shot_one_correlation)"
   ]
  },
  {
   "cell_type": "code",
   "execution_count": null,
   "id": "4a0ba73e-4372-4c6c-b906-13ce3d9f95b2",
   "metadata": {},
   "outputs": [],
   "source": [
    "# Pandas uses standard deviation and variance for sample as defualt\n",
    "\n",
    "print(evaluation[evaluation['Prompt Type']=='one-shot-1']['spearman_rank_correlation'].std())\n",
    "print(evaluation[evaluation['Prompt Type']=='one-shot-1']['spearman_rank_correlation'].var())"
   ]
  },
  {
   "cell_type": "markdown",
   "id": "d589515d-b1c0-496f-b37e-397a10dc2bfd",
   "metadata": {
    "tags": []
   },
   "source": [
    "# Extra Code"
   ]
  },
  {
   "cell_type": "code",
   "execution_count": null,
   "id": "fc9968c9-38e3-4615-acee-b100fc704dae",
   "metadata": {},
   "outputs": [],
   "source": [
    "# Set width of bar\n",
    "barWidth = 0.25\n",
    "\n",
    "# Set height of bars\n",
    "bars1 = df_gpt_4['spearman_rank_correlation']\n",
    "bars2 = df_gpt_turbo['spearman_rank_correlation']\n",
    "bars3 = df_gpt_text_davinci_003['spearman_rank_correlation']\n",
    "\n",
    "# Set position of bar on X axis\n",
    "r1 = np.arange(len(df_gpt_4))\n",
    "r2 = [x + barWidth for x in r1]\n",
    "r3 = [x + barWidth for x in r2]\n",
    "\n",
    "# Make the plot\n",
    "plt.bar(r1, bars1, color='r', width=barWidth, edgecolor='white', label='GPT-4')\n",
    "plt.bar(r2, bars2, color='g', width=barWidth, edgecolor='white', label='GPT-3.5 Turbo')\n",
    "plt.bar(r3, bars3, color='b', width=barWidth, edgecolor='white', label='TextDavinci')\n",
    "\n",
    "# Add xticks on the middle of the group bars\n",
    "plt.xlabel('Prompt Type', fontweight='bold')\n",
    "plt.xticks([r + barWidth for r in range(len(df_gpt_4))], df_gpt_4['Prompt Type'])\n",
    "\n",
    "# Add y label\n",
    "plt.ylabel('Spearman Rank Correlation', fontweight='bold')\n",
    "\n",
    "# Add title\n",
    "plt.title('Comparison of Spearman Rank Correlation across Models', fontsize=16)\n",
    "\n",
    "# Create legend & Show graphic\n",
    "plt.legend()\n",
    "plt.show()"
   ]
  },
  {
   "cell_type": "code",
   "execution_count": null,
   "id": "8e882fe0-5dd4-4298-9f56-8ed3dd6e2801",
   "metadata": {},
   "outputs": [],
   "source": [
    "import matplotlib.pyplot as plt\n",
    "import seaborn as sns\n",
    "plt.bar(df_gpt_4['Prompt Type'], df_gpt_4['spearman_rank_correlation'])\n",
    "plt.title('GPT-4', fontsize=16)\n",
    "plt.xlabel('Prompt Type')\n",
    "plt.ylabel('spearman_rank_correlation')\n",
    "plt.show()"
   ]
  }
 ],
 "metadata": {
  "kernelspec": {
   "display_name": "work",
   "language": "python",
   "name": "work"
  },
  "language_info": {
   "codemirror_mode": {
    "name": "ipython",
    "version": 3
   },
   "file_extension": ".py",
   "mimetype": "text/x-python",
   "name": "python",
   "nbconvert_exporter": "python",
   "pygments_lexer": "ipython3",
   "version": "3.10.9"
  }
 },
 "nbformat": 4,
 "nbformat_minor": 5
}
